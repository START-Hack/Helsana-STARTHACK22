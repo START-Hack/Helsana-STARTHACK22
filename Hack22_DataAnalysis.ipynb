{
    "metadata": {
        "kernelspec": {
            "name": "SQL",
            "display_name": "SQL",
            "language": "sql"
        },
        "language_info": {
            "name": "sql",
            "version": ""
        }
    },
    "nbformat_minor": 2,
    "nbformat": 4,
    "cells": [
        {
            "cell_type": "markdown",
            "source": [
                "# Analysis: Does each BasicActivity belong to exactly one Category only?"
            ],
            "metadata": {
                "azdata_cell_guid": "e6af026b-f989-4f1c-a0d9-d3366e97f237"
            },
            "attachments": {}
        },
        {
            "cell_type": "code",
            "source": [
                ";with BasicActivities_with_more_than_one_Category as (\r\n",
                "    select BasicActivity \r\n",
                "    from UserActivity \r\n",
                "    group by BasicActivity \r\n",
                "    having count(distinct Category) > 1\r\n",
                ")\r\n",
                "select ua.Category, ua.BasicActivity, count(*)\r\n",
                "from UserActivity ua\r\n",
                "inner join BasicActivities_with_more_than_one_Category t\r\n",
                "    ON ua.BasicActivity = t.BasicActivity\r\n",
                "group by ua.Category, ua.BasicActivity"
            ],
            "metadata": {
                "azdata_cell_guid": "34d1a48f-2011-4044-beab-414adb4247e2",
                "tags": []
            },
            "outputs": [
                {
                    "output_type": "display_data",
                    "data": {
                        "text/html": "(2 rows affected)"
                    },
                    "metadata": {}
                },
                {
                    "output_type": "display_data",
                    "data": {
                        "text/html": "Total execution time: 00:00:01.890"
                    },
                    "metadata": {}
                },
                {
                    "output_type": "execute_result",
                    "metadata": {},
                    "execution_count": 13,
                    "data": {
                        "application/vnd.dataresource+json": {
                            "schema": {
                                "fields": [
                                    {
                                        "name": "Category"
                                    },
                                    {
                                        "name": "BasicActivity"
                                    },
                                    {
                                        "name": "(No column name)"
                                    }
                                ]
                            },
                            "data": [
                                {
                                    "0": "Loyalty and Helsana",
                                    "1": "Recommendation Helsana+ App",
                                    "2": "196"
                                },
                                {
                                    "0": "Challenges",
                                    "1": "Recommendation Helsana+ App",
                                    "2": "36"
                                }
                            ]
                        },
                        "text/html": [
                            "<table>",
                            "<tr><th>Category</th><th>BasicActivity</th><th>(No column name)</th></tr>",
                            "<tr><td>Loyalty and Helsana</td><td>Recommendation Helsana+ App</td><td>196</td></tr>",
                            "<tr><td>Challenges</td><td>Recommendation Helsana+ App</td><td>36</td></tr>",
                            "</table>"
                        ]
                    }
                }
            ],
            "execution_count": 13
        },
        {
            "cell_type": "markdown",
            "source": [
                "Conclusion: BasicActivity \"Recommendation Helsana+ App\" belongs to Categories \"Loyalty and Helsana\" as well as \"Challenges\". All other BasicActivity values only belong to exactly one Category."
            ],
            "metadata": {
                "azdata_cell_guid": "115330cd-44a0-42b2-a3c4-4e762c75ef16"
            },
            "attachments": {}
        },
        {
            "cell_type": "code",
            "source": [
                ""
            ],
            "metadata": {
                "azdata_cell_guid": "d00a483d-3f97-41ba-8994-c01edaf6cfa9"
            },
            "outputs": [],
            "execution_count": null
        },
        {
            "cell_type": "markdown",
            "source": [
                "# Analysis: Format of `ActivityDetails` depending on `BasicActivity`"
            ],
            "metadata": {
                "azdata_cell_guid": "5a5e514a-de76-44e6-8545-e1507e7c7f78"
            },
            "attachments": {}
        },
        {
            "cell_type": "code",
            "source": [
                "WITH grouped AS (\r\n",
                "    select Category, BasicActivity, min(ActivityDetails) as Min_ActivityDetails, max(ActivityDetails) as Max_ActivityDetails\r\n",
                "    from UserActivity \r\n",
                "    group by Category, BasicActivity\r\n",
                ")\r\n",
                "SELECT \r\n",
                "    Category, \r\n",
                "    BasicActivity, \r\n",
                "    Min_ActivityDetails, \r\n",
                "    Max_ActivityDetails, \r\n",
                "    CASE\r\n",
                "        -- Mind the typo: Unkonwn instead of Unknown\r\n",
                "        WHEN CHARINDEX('{', Min_ActivityDetails) > 0 AND CHARINDEX('{', MAX_ActivityDetails) > 0 THEN 'JSON'\r\n",
                "        WHEN Min_ActivityDetails = '' AND Max_ActivityDetails = '' THEN 'Empty String'\r\n",
                "        WHEN Min_ActivityDetails = ',,' AND Max_ActivityDetails = ',,' THEN 'Empty String'\r\n",
                "        WHEN Min_ActivityDetails = Max_ActivityDetails THEN 'Value Always: ' + IIF(Min_ActivityDetails IS NULL, '(NULL)', '\"' + Min_ActivityDetails+ '\"')\r\n",
                "        ELSE 'Various Values'\r\n",
                "    END Format_of_ActivityDetails\r\n",
                "FROM grouped\r\n",
                "ORDER BY 1,2\r\n",
                ""
            ],
            "metadata": {
                "azdata_cell_guid": "f3df3760-f869-4855-8d8a-859dcdcc6842"
            },
            "outputs": [
                {
                    "output_type": "display_data",
                    "data": {
                        "text/html": "(61 rows affected)"
                    },
                    "metadata": {}
                },
                {
                    "output_type": "display_data",
                    "data": {
                        "text/html": "Total execution time: 00:00:00.620"
                    },
                    "metadata": {}
                },
                {
                    "output_type": "execute_result",
                    "metadata": {},
                    "execution_count": 14,
                    "data": {
                        "application/vnd.dataresource+json": {
                            "schema": {
                                "fields": [
                                    {
                                        "name": "Category"
                                    },
                                    {
                                        "name": "BasicActivity"
                                    },
                                    {
                                        "name": "Min_ActivityDetails"
                                    },
                                    {
                                        "name": "Max_ActivityDetails"
                                    },
                                    {
                                        "name": "Format_of_ActivityDetails"
                                    }
                                ]
                            },
                            "data": [
                                {
                                    "0": "Challenges",
                                    "1": "“Refer a friend” quiz",
                                    "2": "",
                                    "3": "",
                                    "4": "Empty String"
                                },
                                {
                                    "0": "Challenges",
                                    "1": "A balanced diet",
                                    "2": "",
                                    "3": "",
                                    "4": "Empty String"
                                },
                                {
                                    "0": "Challenges",
                                    "1": "Back quiz",
                                    "2": "",
                                    "3": "",
                                    "4": "Empty String"
                                },
                                {
                                    "0": "Challenges",
                                    "1": "Bonus for autumn challenges",
                                    "2": "",
                                    "3": "",
                                    "4": "Empty String"
                                },
                                {
                                    "0": "Challenges",
                                    "1": "Bonus for Coach sessions",
                                    "2": "",
                                    "3": "",
                                    "4": "Empty String"
                                },
                                {
                                    "0": "Challenges",
                                    "1": "Bonus for January challenges",
                                    "2": "",
                                    "3": "",
                                    "4": "Empty String"
                                },
                                {
                                    "0": "Challenges",
                                    "1": "Chain of survival quiz",
                                    "2": "",
                                    "3": "",
                                    "4": "Empty String"
                                },
                                {
                                    "0": "Challenges",
                                    "1": "Earn points, step by step",
                                    "2": "",
                                    "3": "",
                                    "4": "Empty String"
                                },
                                {
                                    "0": "Challenges",
                                    "1": "Exercise quiz",
                                    "2": "",
                                    "3": "",
                                    "4": "Empty String"
                                },
                                {
                                    "0": "Challenges",
                                    "1": "First aid quiz",
                                    "2": "",
                                    "3": "",
                                    "4": "Empty String"
                                },
                                {
                                    "0": "Challenges",
                                    "1": "Golf quiz",
                                    "2": "",
                                    "3": "",
                                    "4": "Empty String"
                                },
                                {
                                    "0": "Challenges",
                                    "1": "Health apps quiz",
                                    "2": "",
                                    "3": "",
                                    "4": "Empty String"
                                },
                                {
                                    "0": "Challenges",
                                    "1": "Health Consultation quiz",
                                    "2": "",
                                    "3": "",
                                    "4": "Empty String"
                                },
                                {
                                    "0": "Challenges",
                                    "1": "Health insurance companies quiz",
                                    "2": "",
                                    "3": "",
                                    "4": "Empty String"
                                },
                                {
                                    "0": "Challenges",
                                    "1": "Health insurance quiz",
                                    "2": "",
                                    "3": "",
                                    "4": "Empty String"
                                },
                                {
                                    "0": "Challenges",
                                    "1": "Helsana Champions League",
                                    "2": "",
                                    "3": "",
                                    "4": "Empty String"
                                },
                                {
                                    "0": "Challenges",
                                    "1": "Helsana Trails app quiz",
                                    "2": "",
                                    "3": "",
                                    "4": "Empty String"
                                },
                                {
                                    "0": "Challenges",
                                    "1": "Jogging in winter quiz",
                                    "2": "",
                                    "3": "",
                                    "4": "Empty String"
                                },
                                {
                                    "0": "Challenges",
                                    "1": "Lavender quiz",
                                    "2": "",
                                    "3": "",
                                    "4": "Empty String"
                                },
                                {
                                    "0": "Challenges",
                                    "1": "Quiz Recharge on the Trails",
                                    "2": "",
                                    "3": "",
                                    "4": "Empty String"
                                },
                                {
                                    "0": "Challenges",
                                    "1": "Quiz social engagement",
                                    "2": "",
                                    "3": "",
                                    "4": "Empty String"
                                },
                                {
                                    "0": "Challenges",
                                    "1": "Quiz: depression",
                                    "2": "",
                                    "3": "",
                                    "4": "Empty String"
                                },
                                {
                                    "0": "Challenges",
                                    "1": "Quiz: Exercise in your daily life",
                                    "2": "",
                                    "3": "",
                                    "4": "Empty String"
                                },
                                {
                                    "0": "Challenges",
                                    "1": "Quiz: jogging for beginners",
                                    "2": "",
                                    "3": "",
                                    "4": "Empty String"
                                },
                                {
                                    "0": "Challenges",
                                    "1": "Quiz: What is an ideal weight?",
                                    "2": "",
                                    "3": "",
                                    "4": "Empty String"
                                },
                                {
                                    "0": "Challenges",
                                    "1": "Recommendation Helsana+ App",
                                    "2": "",
                                    "3": "",
                                    "4": "Empty String"
                                },
                                {
                                    "0": "Challenges",
                                    "1": "Relaxation quiz",
                                    "2": "",
                                    "3": "",
                                    "4": "Empty String"
                                },
                                {
                                    "0": "Challenges",
                                    "1": "Summer challenges bonus",
                                    "2": "",
                                    "3": "",
                                    "4": "Empty String"
                                },
                                {
                                    "0": "Challenges",
                                    "1": "Sun protection quiz",
                                    "2": "",
                                    "3": "",
                                    "4": "Empty String"
                                },
                                {
                                    "0": "Challenges",
                                    "1": "Swimming challenges bonus",
                                    "2": "",
                                    "3": "",
                                    "4": "Empty String"
                                },
                                {
                                    "0": "Challenges",
                                    "1": "The elderberry quiz",
                                    "2": "",
                                    "3": "",
                                    "4": "Empty String"
                                },
                                {
                                    "0": "Challenges",
                                    "1": "The Health Consultation quiz",
                                    "2": "",
                                    "3": "",
                                    "4": "Empty String"
                                },
                                {
                                    "0": "Challenges",
                                    "1": "Travel first aid kit quiz",
                                    "2": "",
                                    "3": "",
                                    "4": "Empty String"
                                },
                                {
                                    "0": "Challenges",
                                    "1": "Turmeric quiz",
                                    "2": "",
                                    "3": "",
                                    "4": "Empty String"
                                },
                                {
                                    "0": "Challenges",
                                    "1": "Vitamin quiz",
                                    "2": "",
                                    "3": "",
                                    "4": "Empty String"
                                },
                                {
                                    "0": "Challenges",
                                    "1": "Weekly Bonus Coach",
                                    "2": "",
                                    "3": "",
                                    "4": "Empty String"
                                },
                                {
                                    "0": "Challenges",
                                    "1": "Weekly Class Bonus",
                                    "2": "",
                                    "3": "",
                                    "4": "Empty String"
                                },
                                {
                                    "0": "Coach Activities",
                                    "1": "Daily session",
                                    "2": "{\"ActivityType\":\"Session completed\",\"CategoryType\":\"Mindfulness activity completed\",\"SubcategoryType\":\"Motivation excercise completed\"}",
                                    "3": "{\"ActivityType\":\"Session completed\",\"CategoryType\":\"Nutrition activity completed\",\"SubcategoryType\":\"HealthyEating  completed\"}",
                                    "4": "JSON"
                                },
                                {
                                    "0": "Coach Activities",
                                    "1": "Mindfulness programme",
                                    "2": "{\"ActivityType\":\"Program completed\",\"CategoryType\":\"Mindfulness activity completed\",\"SubcategoryType\":\"Motivation excercise completed\"}",
                                    "3": "{\"ActivityType\":\"Program completed\",\"CategoryType\":\"Mindfulness activity completed\",\"SubcategoryType\":\"Motivation excercise completed\"}",
                                    "4": "JSON"
                                },
                                {
                                    "0": "Coach Activities",
                                    "1": "Movement programme",
                                    "2": "{\"ActivityType\":\"Program completed\",\"CategoryType\":\"Movement activity completed\",\"SubcategoryType\":\"Strength excercise completed\"}",
                                    "3": "{\"ActivityType\":\"Program completed\",\"CategoryType\":\"Movement activity completed\",\"SubcategoryType\":\"Strength excercise completed\"}",
                                    "4": "JSON"
                                },
                                {
                                    "0": "Coach Activities",
                                    "1": "Nutrition programme",
                                    "2": "{\"ActivityType\":\"Program completed\",\"CategoryType\":\"Nutrition activity completed\",\"SubcategoryType\":\"HealthyEating  completed\"}",
                                    "3": "{\"ActivityType\":\"Program completed\",\"CategoryType\":\"Nutrition activity completed\",\"SubcategoryType\":\"HealthyEating  completed\"}",
                                    "4": "JSON"
                                },
                                {
                                    "0": "Coach Activities",
                                    "1": "Weekly Bonus",
                                    "2": "",
                                    "3": "",
                                    "4": "Empty String"
                                },
                                {
                                    "0": "Exclusively for you!",
                                    "1": "Jogging challenge",
                                    "2": "{\"ActivityType\":\"Program completed\",\"CategoryType\":\"Movement activity completed\",\"SubcategoryType\":\"Strength excercise completed\"}",
                                    "3": "{\"ActivityType\":\"Session completed\",\"CategoryType\":\"Movement activity completed\",\"SubcategoryType\":\"Strength excercise completed\"}",
                                    "4": "JSON"
                                },
                                {
                                    "0": "Getting started",
                                    "1": "Connection to Fitnesstracker",
                                    "2": "Unkonwn",
                                    "3": "Unkonwn",
                                    "4": "Value Always: \"Unkonwn\""
                                },
                                {
                                    "0": "Getting started",
                                    "1": "Discover Helsana Coach",
                                    "2": ",,",
                                    "3": ",,",
                                    "4": "Empty String"
                                },
                                {
                                    "0": "Getting started",
                                    "1": "Discover Trails App",
                                    "2": "Unkonwn",
                                    "3": "Unkonwn",
                                    "4": "Value Always: \"Unkonwn\""
                                },
                                {
                                    "0": "Getting started",
                                    "1": "Link to health tracker app",
                                    "2": "Unkonwn",
                                    "3": "Unkonwn",
                                    "4": "Value Always: \"Unkonwn\""
                                },
                                {
                                    "0": "Loyalty and Helsana",
                                    "1": "Longstanding customers",
                                    "2": "",
                                    "3": "",
                                    "4": "Empty String"
                                },
                                {
                                    "0": "Loyalty and Helsana",
                                    "1": "Recommendation Helsana+ App",
                                    "2": "",
                                    "3": "",
                                    "4": "Empty String"
                                },
                                {
                                    "0": "Mindfulness",
                                    "1": "Daily Session mindfulness Coach",
                                    "2": "{\"ActivityType\":\"Session completed\",\"CategoryType\":\"Mindfulness activity completed\",\"SubcategoryType\":\"Motivation excercise completed\"}",
                                    "3": "{\"ActivityType\":\"Session completed\",\"CategoryType\":\"Mindfulness activity completed\",\"SubcategoryType\":\"Motivation excercise completed\"}",
                                    "4": "JSON"
                                },
                                {
                                    "0": "Mindfulness",
                                    "1": "Mindfulness programme Coach",
                                    "2": "{\"ActivityType\":\"Program completed\",\"CategoryType\":\"Mindfulness activity completed\",\"SubcategoryType\":\"Focus excercise completed\"}",
                                    "3": "{\"ActivityType\":\"Program completed\",\"CategoryType\":\"Mindfulness activity completed\",\"SubcategoryType\":\"Strength excercise completed\"2}",
                                    "4": "JSON"
                                },
                                {
                                    "0": "Mindfulness",
                                    "1": "Session mindfulness Coach",
                                    "2": "{\"ActivityType\":\"Program completed\",\"CategoryType\":\"Mindfulness activity completed\",\"SubcategoryType\":\"Focus excercise completed\"}",
                                    "3": "{\"ActivityType\":\"Session completed\",\"CategoryType\":\"Mindfulness activity completed\",\"SubcategoryType\":\"Strength excercise completed\"2}",
                                    "4": "JSON"
                                },
                                {
                                    "0": "Movement",
                                    "1": "100'000 schritte Challenge für Spitzensportler :-)",
                                    "2": "Steps thershold matched",
                                    "3": "Steps thershold matched",
                                    "4": "Value Always: \"Steps thershold matched\""
                                },
                                {
                                    "0": "Movement",
                                    "1": "Daily Session Movement Coach",
                                    "2": "{\"ActivityType\":\"Program completed\",\"CategoryType\":\"Movement activity completed\",\"SubcategoryType\":\"Endurance excercise completed\"}",
                                    "3": "{\"ActivityType\":\"Session completed\",\"CategoryType\":\"Movement activity completed\",\"SubcategoryType\":\"Weighttraining excercise completed\"}",
                                    "4": "JSON"
                                },
                                {
                                    "0": "Movement",
                                    "1": "Movement programme Coach",
                                    "2": "{\"ActivityType\":\"Program completed\",\"CategoryType\":\"Movement activity completed\",\"SubcategoryType\":\"Endurance excercise completed\"}",
                                    "3": "{\"ActivityType\":\"Program completed\",\"CategoryType\":\"Movement activity completed\",\"SubcategoryType\":\"Weighttraining excercise completed\"}",
                                    "4": "JSON"
                                },
                                {
                                    "0": "Movement",
                                    "1": "My activity",
                                    "2": "",
                                    "3": "",
                                    "4": "Empty String"
                                },
                                {
                                    "0": "Movement",
                                    "1": "Personal exercise",
                                    "2": "Heartrate threshold matched",
                                    "3": "Steps thershold matched",
                                    "4": "Various Values"
                                },
                                {
                                    "0": "Movement",
                                    "1": "Trails App Run",
                                    "2": "Free run completed",
                                    "3": "Free run completed",
                                    "4": "Value Always: \"Free run completed\""
                                },
                                {
                                    "0": "Nutrition",
                                    "1": "Daily Session nutrition Coach",
                                    "2": "{\"ActivityType\":\"Session completed\",\"CategoryType\":\"Nutrition activity completed\",\"SubcategoryType\":\"HealthyEating  completed\"}",
                                    "3": "{\"ActivityType\":\"Session completed\",\"CategoryType\":\"Nutrition activity completed\",\"SubcategoryType\":\"HealthyEating  completed\"}",
                                    "4": "JSON"
                                },
                                {
                                    "0": "Nutrition",
                                    "1": "Nutrition programme Coach",
                                    "2": "{\"ActivityType\":\"Program completed\",\"CategoryType\":\"Nutrition activity completed\",\"SubcategoryType\":\"HealthyEating  completed\"}",
                                    "3": "{\"ActivityType\":\"Program completed\",\"CategoryType\":\"Nutrition activity completed\",\"SubcategoryType\":\"Strength excercise completed\"0}",
                                    "4": "JSON"
                                },
                                {
                                    "0": "Nutrition",
                                    "1": "Session nutrition Coach",
                                    "2": "{\"ActivityType\":\"Program completed\",\"CategoryType\":\"Nutrition activity completed\",\"SubcategoryType\":\"HealthyEating  completed\"}",
                                    "3": "{\"ActivityType\":\"Session completed\",\"CategoryType\":\"Nutrition activity completed\",\"SubcategoryType\":\"Strength excercise completed\"0}",
                                    "4": "JSON"
                                }
                            ]
                        },
                        "text/html": [
                            "<table>",
                            "<tr><th>Category</th><th>BasicActivity</th><th>Min_ActivityDetails</th><th>Max_ActivityDetails</th><th>Format_of_ActivityDetails</th></tr>",
                            "<tr><td>Challenges</td><td>“Refer a friend” quiz</td><td></td><td></td><td>Empty String</td></tr>",
                            "<tr><td>Challenges</td><td>A balanced diet</td><td></td><td></td><td>Empty String</td></tr>",
                            "<tr><td>Challenges</td><td>Back quiz</td><td></td><td></td><td>Empty String</td></tr>",
                            "<tr><td>Challenges</td><td>Bonus for autumn challenges</td><td></td><td></td><td>Empty String</td></tr>",
                            "<tr><td>Challenges</td><td>Bonus for Coach sessions</td><td></td><td></td><td>Empty String</td></tr>",
                            "<tr><td>Challenges</td><td>Bonus for January challenges</td><td></td><td></td><td>Empty String</td></tr>",
                            "<tr><td>Challenges</td><td>Chain of survival quiz</td><td></td><td></td><td>Empty String</td></tr>",
                            "<tr><td>Challenges</td><td>Earn points, step by step</td><td></td><td></td><td>Empty String</td></tr>",
                            "<tr><td>Challenges</td><td>Exercise quiz</td><td></td><td></td><td>Empty String</td></tr>",
                            "<tr><td>Challenges</td><td>First aid quiz</td><td></td><td></td><td>Empty String</td></tr>",
                            "<tr><td>Challenges</td><td>Golf quiz</td><td></td><td></td><td>Empty String</td></tr>",
                            "<tr><td>Challenges</td><td>Health apps quiz</td><td></td><td></td><td>Empty String</td></tr>",
                            "<tr><td>Challenges</td><td>Health Consultation quiz</td><td></td><td></td><td>Empty String</td></tr>",
                            "<tr><td>Challenges</td><td>Health insurance companies quiz</td><td></td><td></td><td>Empty String</td></tr>",
                            "<tr><td>Challenges</td><td>Health insurance quiz</td><td></td><td></td><td>Empty String</td></tr>",
                            "<tr><td>Challenges</td><td>Helsana Champions League</td><td></td><td></td><td>Empty String</td></tr>",
                            "<tr><td>Challenges</td><td>Helsana Trails app quiz</td><td></td><td></td><td>Empty String</td></tr>",
                            "<tr><td>Challenges</td><td>Jogging in winter quiz</td><td></td><td></td><td>Empty String</td></tr>",
                            "<tr><td>Challenges</td><td>Lavender quiz</td><td></td><td></td><td>Empty String</td></tr>",
                            "<tr><td>Challenges</td><td>Quiz Recharge on the Trails</td><td></td><td></td><td>Empty String</td></tr>",
                            "<tr><td>Challenges</td><td>Quiz social engagement</td><td></td><td></td><td>Empty String</td></tr>",
                            "<tr><td>Challenges</td><td>Quiz: depression</td><td></td><td></td><td>Empty String</td></tr>",
                            "<tr><td>Challenges</td><td>Quiz: Exercise in your daily life</td><td></td><td></td><td>Empty String</td></tr>",
                            "<tr><td>Challenges</td><td>Quiz: jogging for beginners</td><td></td><td></td><td>Empty String</td></tr>",
                            "<tr><td>Challenges</td><td>Quiz: What is an ideal weight?</td><td></td><td></td><td>Empty String</td></tr>",
                            "<tr><td>Challenges</td><td>Recommendation Helsana+ App</td><td></td><td></td><td>Empty String</td></tr>",
                            "<tr><td>Challenges</td><td>Relaxation quiz</td><td></td><td></td><td>Empty String</td></tr>",
                            "<tr><td>Challenges</td><td>Summer challenges bonus</td><td></td><td></td><td>Empty String</td></tr>",
                            "<tr><td>Challenges</td><td>Sun protection quiz</td><td></td><td></td><td>Empty String</td></tr>",
                            "<tr><td>Challenges</td><td>Swimming challenges bonus</td><td></td><td></td><td>Empty String</td></tr>",
                            "<tr><td>Challenges</td><td>The elderberry quiz</td><td></td><td></td><td>Empty String</td></tr>",
                            "<tr><td>Challenges</td><td>The Health Consultation quiz</td><td></td><td></td><td>Empty String</td></tr>",
                            "<tr><td>Challenges</td><td>Travel first aid kit quiz</td><td></td><td></td><td>Empty String</td></tr>",
                            "<tr><td>Challenges</td><td>Turmeric quiz</td><td></td><td></td><td>Empty String</td></tr>",
                            "<tr><td>Challenges</td><td>Vitamin quiz</td><td></td><td></td><td>Empty String</td></tr>",
                            "<tr><td>Challenges</td><td>Weekly Bonus Coach</td><td></td><td></td><td>Empty String</td></tr>",
                            "<tr><td>Challenges</td><td>Weekly Class Bonus</td><td></td><td></td><td>Empty String</td></tr>",
                            "<tr><td>Coach Activities</td><td>Daily session</td><td>{&quot;ActivityType&quot;:&quot;Session completed&quot;,&quot;CategoryType&quot;:&quot;Mindfulness activity completed&quot;,&quot;SubcategoryType&quot;:&quot;Motivation excercise completed&quot;}</td><td>{&quot;ActivityType&quot;:&quot;Session completed&quot;,&quot;CategoryType&quot;:&quot;Nutrition activity completed&quot;,&quot;SubcategoryType&quot;:&quot;HealthyEating  completed&quot;}</td><td>JSON</td></tr>",
                            "<tr><td>Coach Activities</td><td>Mindfulness programme</td><td>{&quot;ActivityType&quot;:&quot;Program completed&quot;,&quot;CategoryType&quot;:&quot;Mindfulness activity completed&quot;,&quot;SubcategoryType&quot;:&quot;Motivation excercise completed&quot;}</td><td>{&quot;ActivityType&quot;:&quot;Program completed&quot;,&quot;CategoryType&quot;:&quot;Mindfulness activity completed&quot;,&quot;SubcategoryType&quot;:&quot;Motivation excercise completed&quot;}</td><td>JSON</td></tr>",
                            "<tr><td>Coach Activities</td><td>Movement programme</td><td>{&quot;ActivityType&quot;:&quot;Program completed&quot;,&quot;CategoryType&quot;:&quot;Movement activity completed&quot;,&quot;SubcategoryType&quot;:&quot;Strength excercise completed&quot;}</td><td>{&quot;ActivityType&quot;:&quot;Program completed&quot;,&quot;CategoryType&quot;:&quot;Movement activity completed&quot;,&quot;SubcategoryType&quot;:&quot;Strength excercise completed&quot;}</td><td>JSON</td></tr>",
                            "<tr><td>Coach Activities</td><td>Nutrition programme</td><td>{&quot;ActivityType&quot;:&quot;Program completed&quot;,&quot;CategoryType&quot;:&quot;Nutrition activity completed&quot;,&quot;SubcategoryType&quot;:&quot;HealthyEating  completed&quot;}</td><td>{&quot;ActivityType&quot;:&quot;Program completed&quot;,&quot;CategoryType&quot;:&quot;Nutrition activity completed&quot;,&quot;SubcategoryType&quot;:&quot;HealthyEating  completed&quot;}</td><td>JSON</td></tr>",
                            "<tr><td>Coach Activities</td><td>Weekly Bonus</td><td></td><td></td><td>Empty String</td></tr>",
                            "<tr><td>Exclusively for you!</td><td>Jogging challenge</td><td>{&quot;ActivityType&quot;:&quot;Program completed&quot;,&quot;CategoryType&quot;:&quot;Movement activity completed&quot;,&quot;SubcategoryType&quot;:&quot;Strength excercise completed&quot;}</td><td>{&quot;ActivityType&quot;:&quot;Session completed&quot;,&quot;CategoryType&quot;:&quot;Movement activity completed&quot;,&quot;SubcategoryType&quot;:&quot;Strength excercise completed&quot;}</td><td>JSON</td></tr>",
                            "<tr><td>Getting started</td><td>Connection to Fitnesstracker</td><td>Unkonwn</td><td>Unkonwn</td><td>Value Always: &quot;Unkonwn&quot;</td></tr>",
                            "<tr><td>Getting started</td><td>Discover Helsana Coach</td><td>,,</td><td>,,</td><td>Empty String</td></tr>",
                            "<tr><td>Getting started</td><td>Discover Trails App</td><td>Unkonwn</td><td>Unkonwn</td><td>Value Always: &quot;Unkonwn&quot;</td></tr>",
                            "<tr><td>Getting started</td><td>Link to health tracker app</td><td>Unkonwn</td><td>Unkonwn</td><td>Value Always: &quot;Unkonwn&quot;</td></tr>",
                            "<tr><td>Loyalty and Helsana</td><td>Longstanding customers</td><td></td><td></td><td>Empty String</td></tr>",
                            "<tr><td>Loyalty and Helsana</td><td>Recommendation Helsana+ App</td><td></td><td></td><td>Empty String</td></tr>",
                            "<tr><td>Mindfulness</td><td>Daily Session mindfulness Coach</td><td>{&quot;ActivityType&quot;:&quot;Session completed&quot;,&quot;CategoryType&quot;:&quot;Mindfulness activity completed&quot;,&quot;SubcategoryType&quot;:&quot;Motivation excercise completed&quot;}</td><td>{&quot;ActivityType&quot;:&quot;Session completed&quot;,&quot;CategoryType&quot;:&quot;Mindfulness activity completed&quot;,&quot;SubcategoryType&quot;:&quot;Motivation excercise completed&quot;}</td><td>JSON</td></tr>",
                            "<tr><td>Mindfulness</td><td>Mindfulness programme Coach</td><td>{&quot;ActivityType&quot;:&quot;Program completed&quot;,&quot;CategoryType&quot;:&quot;Mindfulness activity completed&quot;,&quot;SubcategoryType&quot;:&quot;Focus excercise completed&quot;}</td><td>{&quot;ActivityType&quot;:&quot;Program completed&quot;,&quot;CategoryType&quot;:&quot;Mindfulness activity completed&quot;,&quot;SubcategoryType&quot;:&quot;Strength excercise completed&quot;2}</td><td>JSON</td></tr>",
                            "<tr><td>Mindfulness</td><td>Session mindfulness Coach</td><td>{&quot;ActivityType&quot;:&quot;Program completed&quot;,&quot;CategoryType&quot;:&quot;Mindfulness activity completed&quot;,&quot;SubcategoryType&quot;:&quot;Focus excercise completed&quot;}</td><td>{&quot;ActivityType&quot;:&quot;Session completed&quot;,&quot;CategoryType&quot;:&quot;Mindfulness activity completed&quot;,&quot;SubcategoryType&quot;:&quot;Strength excercise completed&quot;2}</td><td>JSON</td></tr>",
                            "<tr><td>Movement</td><td>100'000 schritte Challenge für Spitzensportler :-)</td><td>Steps thershold matched</td><td>Steps thershold matched</td><td>Value Always: &quot;Steps thershold matched&quot;</td></tr>",
                            "<tr><td>Movement</td><td>Daily Session Movement Coach</td><td>{&quot;ActivityType&quot;:&quot;Program completed&quot;,&quot;CategoryType&quot;:&quot;Movement activity completed&quot;,&quot;SubcategoryType&quot;:&quot;Endurance excercise completed&quot;}</td><td>{&quot;ActivityType&quot;:&quot;Session completed&quot;,&quot;CategoryType&quot;:&quot;Movement activity completed&quot;,&quot;SubcategoryType&quot;:&quot;Weighttraining excercise completed&quot;}</td><td>JSON</td></tr>",
                            "<tr><td>Movement</td><td>Movement programme Coach</td><td>{&quot;ActivityType&quot;:&quot;Program completed&quot;,&quot;CategoryType&quot;:&quot;Movement activity completed&quot;,&quot;SubcategoryType&quot;:&quot;Endurance excercise completed&quot;}</td><td>{&quot;ActivityType&quot;:&quot;Program completed&quot;,&quot;CategoryType&quot;:&quot;Movement activity completed&quot;,&quot;SubcategoryType&quot;:&quot;Weighttraining excercise completed&quot;}</td><td>JSON</td></tr>",
                            "<tr><td>Movement</td><td>My activity</td><td></td><td></td><td>Empty String</td></tr>",
                            "<tr><td>Movement</td><td>Personal exercise</td><td>Heartrate threshold matched</td><td>Steps thershold matched</td><td>Various Values</td></tr>",
                            "<tr><td>Movement</td><td>Trails App Run</td><td>Free run completed</td><td>Free run completed</td><td>Value Always: &quot;Free run completed&quot;</td></tr>",
                            "<tr><td>Nutrition</td><td>Daily Session nutrition Coach</td><td>{&quot;ActivityType&quot;:&quot;Session completed&quot;,&quot;CategoryType&quot;:&quot;Nutrition activity completed&quot;,&quot;SubcategoryType&quot;:&quot;HealthyEating  completed&quot;}</td><td>{&quot;ActivityType&quot;:&quot;Session completed&quot;,&quot;CategoryType&quot;:&quot;Nutrition activity completed&quot;,&quot;SubcategoryType&quot;:&quot;HealthyEating  completed&quot;}</td><td>JSON</td></tr>",
                            "<tr><td>Nutrition</td><td>Nutrition programme Coach</td><td>{&quot;ActivityType&quot;:&quot;Program completed&quot;,&quot;CategoryType&quot;:&quot;Nutrition activity completed&quot;,&quot;SubcategoryType&quot;:&quot;HealthyEating  completed&quot;}</td><td>{&quot;ActivityType&quot;:&quot;Program completed&quot;,&quot;CategoryType&quot;:&quot;Nutrition activity completed&quot;,&quot;SubcategoryType&quot;:&quot;Strength excercise completed&quot;0}</td><td>JSON</td></tr>",
                            "<tr><td>Nutrition</td><td>Session nutrition Coach</td><td>{&quot;ActivityType&quot;:&quot;Program completed&quot;,&quot;CategoryType&quot;:&quot;Nutrition activity completed&quot;,&quot;SubcategoryType&quot;:&quot;HealthyEating  completed&quot;}</td><td>{&quot;ActivityType&quot;:&quot;Session completed&quot;,&quot;CategoryType&quot;:&quot;Nutrition activity completed&quot;,&quot;SubcategoryType&quot;:&quot;Strength excercise completed&quot;0}</td><td>JSON</td></tr>",
                            "</table>"
                        ]
                    }
                }
            ],
            "execution_count": 14
        },
        {
            "cell_type": "markdown",
            "source": [
                "Category \"Movement\":\n",
                "\n",
                "* `BasicActivity` = \"My Activity\" => DSP\n",
                "* `BasicActivity` is JSON => Coach\n",
                "* `BasicActivity` = \"Personal exercise\" => vor DSP\n",
                "* `BasicActivity` = \"Trails App Run\" => Trails\n",
                "* Challenges as well\n",
                ""
            ],
            "metadata": {
                "azdata_cell_guid": "a58e991e-5e69-4e3b-8a52-1fd77d152afd"
            },
            "attachments": {}
        }
    ]
}