{
    "metadata": {
        "kernelspec": {
            "name": "SQL",
            "display_name": "SQL",
            "language": "sql"
        },
        "language_info": {
            "name": "sql",
            "version": ""
        }
    },
    "nbformat_minor": 2,
    "nbformat": 4,
    "cells": [
        {
            "cell_type": "markdown",
            "source": [
                "# Analysis: Does each BasicActivity belong to exactly one Category only?"
            ],
            "metadata": {
                "azdata_cell_guid": "e6af026b-f989-4f1c-a0d9-d3366e97f237"
            },
            "attachments": {}
        },
        {
            "cell_type": "code",
            "source": [
                ";with BasicActivities_with_more_than_one_Category as (\r\n",
                "    select BasicActivity \r\n",
                "    from UserActivity \r\n",
                "    group by BasicActivity \r\n",
                "    having count(distinct Category) > 1\r\n",
                ")\r\n",
                "select ua.Category, ua.BasicActivity, count(*)\r\n",
                "from UserActivity ua\r\n",
                "inner join BasicActivities_with_more_than_one_Category t\r\n",
                "    ON ua.BasicActivity = t.BasicActivity\r\n",
                "group by ua.Category, ua.BasicActivity"
            ],
            "metadata": {
                "azdata_cell_guid": "34d1a48f-2011-4044-beab-414adb4247e2",
                "tags": []
            },
            "outputs": [
                {
                    "output_type": "display_data",
                    "data": {
                        "text/html": "(2 rows affected)"
                    },
                    "metadata": {}
                },
                {
                    "output_type": "display_data",
                    "data": {
                        "text/html": "Total execution time: 00:00:01.890"
                    },
                    "metadata": {}
                },
                {
                    "output_type": "execute_result",
                    "execution_count": 13,
                    "data": {
                        "application/vnd.dataresource+json": {
                            "schema": {
                                "fields": [
                                    {
                                        "name": "Category"
                                    },
                                    {
                                        "name": "BasicActivity"
                                    },
                                    {
                                        "name": "(No column name)"
                                    }
                                ]
                            },
                            "data": [
                                {
                                    "0": "Loyalty and Helsana",
                                    "1": "Recommendation Helsana+ App",
                                    "2": "196"
                                },
                                {
                                    "0": "Challenges",
                                    "1": "Recommendation Helsana+ App",
                                    "2": "36"
                                }
                            ]
                        },
                        "text/html": "<table><tr><th>Category</th><th>BasicActivity</th><th>(No column name)</th></tr><tr><td>Loyalty and Helsana</td><td>Recommendation Helsana+ App</td><td>196</td></tr><tr><td>Challenges</td><td>Recommendation Helsana+ App</td><td>36</td></tr></table>"
                    },
                    "metadata": {}
                }
            ],
            "execution_count": 13
        },
        {
            "cell_type": "markdown",
            "source": [
                "Conclusion: BasicActivity \"Recommendation Helsana+ App\" belongs to Categories \"Loyalty and Helsana\" as well as \"Challenges\". All other BasicActivity values only belong to exactly one Category."
            ],
            "metadata": {
                "azdata_cell_guid": "115330cd-44a0-42b2-a3c4-4e762c75ef16"
            },
            "attachments": {}
        },
        {
            "cell_type": "code",
            "source": [
                ""
            ],
            "metadata": {
                "azdata_cell_guid": "d00a483d-3f97-41ba-8994-c01edaf6cfa9"
            },
            "outputs": [],
            "execution_count": null
        },
        {
            "cell_type": "markdown",
            "source": [
                "# Analysis: Format of `ActivityDetails` depending on `BasicActivity`"
            ],
            "metadata": {
                "azdata_cell_guid": "5a5e514a-de76-44e6-8545-e1507e7c7f78"
            },
            "attachments": {}
        },
        {
            "cell_type": "code",
            "source": [
                "WITH grouped AS (\r\n",
                "    select \r\n",
                "        Category, \r\n",
                "        BasicActivity, \r\n",
                "        min(ActivityDetails) as Min_ActivityDetails, \r\n",
                "        max(ActivityDetails) as Max_ActivityDetails,\r\n",
                "        COUNT(*) as Number_of_Records\r\n",
                "    from UserActivity \r\n",
                "    group by Category, BasicActivity\r\n",
                ")\r\n",
                "SELECT \r\n",
                "    Category, \r\n",
                "    BasicActivity, \r\n",
                "    Min_ActivityDetails, \r\n",
                "    Max_ActivityDetails, \r\n",
                "    CASE\r\n",
                "        -- Mind the typo: Unkonwn instead of Unknown\r\n",
                "        WHEN ISJSON(Min_ActivityDetails) > 0 AND ISJSON(MAX_ActivityDetails) > 0 THEN 'JSON'\r\n",
                "        WHEN Min_ActivityDetails = '' AND Max_ActivityDetails = '' THEN 'Empty String'\r\n",
                "        WHEN Min_ActivityDetails = ',,' AND Max_ActivityDetails = ',,' THEN 'Empty String'\r\n",
                "        WHEN Min_ActivityDetails = Max_ActivityDetails THEN 'Value Always: ' + IIF(Min_ActivityDetails IS NULL, '(NULL)', '\"' + Min_ActivityDetails+ '\"')\r\n",
                "        ELSE 'Various Values'\r\n",
                "    END Format_of_ActivityDetails,\r\n",
                "    Number_of_Records\r\n",
                "FROM grouped\r\n",
                "ORDER BY 1,2\r\n",
                ""
            ],
            "metadata": {
                "azdata_cell_guid": "f3df3760-f869-4855-8d8a-859dcdcc6842"
            },
            "outputs": [
                {
                    "output_type": "display_data",
                    "data": {
                        "text/html": "(61 rows affected)"
                    },
                    "metadata": {}
                },
                {
                    "output_type": "display_data",
                    "data": {
                        "text/html": "Total execution time: 00:00:00.499"
                    },
                    "metadata": {}
                },
                {
                    "output_type": "execute_result",
                    "metadata": {},
                    "execution_count": 7,
                    "data": {
                        "application/vnd.dataresource+json": {
                            "schema": {
                                "fields": [
                                    {
                                        "name": "Category"
                                    },
                                    {
                                        "name": "BasicActivity"
                                    },
                                    {
                                        "name": "Min_ActivityDetails"
                                    },
                                    {
                                        "name": "Max_ActivityDetails"
                                    },
                                    {
                                        "name": "Format_of_ActivityDetails"
                                    },
                                    {
                                        "name": "Number_of_Records"
                                    }
                                ]
                            },
                            "data": [
                                {
                                    "0": "Challenges",
                                    "1": "“Refer a friend” quiz",
                                    "2": "",
                                    "3": "",
                                    "4": "Empty String",
                                    "5": "624"
                                },
                                {
                                    "0": "Challenges",
                                    "1": "A balanced diet",
                                    "2": "",
                                    "3": "",
                                    "4": "Empty String",
                                    "5": "748"
                                },
                                {
                                    "0": "Challenges",
                                    "1": "Back quiz",
                                    "2": "",
                                    "3": "",
                                    "4": "Empty String",
                                    "5": "950"
                                },
                                {
                                    "0": "Challenges",
                                    "1": "Bonus for autumn challenges",
                                    "2": "",
                                    "3": "",
                                    "4": "Empty String",
                                    "5": "117"
                                },
                                {
                                    "0": "Challenges",
                                    "1": "Bonus for Coach sessions",
                                    "2": "",
                                    "3": "",
                                    "4": "Empty String",
                                    "5": "4"
                                },
                                {
                                    "0": "Challenges",
                                    "1": "Bonus for January challenges",
                                    "2": "",
                                    "3": "",
                                    "4": "Empty String",
                                    "5": "415"
                                },
                                {
                                    "0": "Challenges",
                                    "1": "Chain of survival quiz",
                                    "2": "",
                                    "3": "",
                                    "4": "Empty String",
                                    "5": "925"
                                },
                                {
                                    "0": "Challenges",
                                    "1": "Earn points, step by step",
                                    "2": "",
                                    "3": "",
                                    "4": "Empty String",
                                    "5": "131"
                                },
                                {
                                    "0": "Challenges",
                                    "1": "Exercise quiz",
                                    "2": "",
                                    "3": "",
                                    "4": "Empty String",
                                    "5": "659"
                                },
                                {
                                    "0": "Challenges",
                                    "1": "First aid quiz",
                                    "2": "",
                                    "3": "",
                                    "4": "Empty String",
                                    "5": "470"
                                },
                                {
                                    "0": "Challenges",
                                    "1": "Golf quiz",
                                    "2": "",
                                    "3": "",
                                    "4": "Empty String",
                                    "5": "806"
                                },
                                {
                                    "0": "Challenges",
                                    "1": "Health apps quiz",
                                    "2": "",
                                    "3": "",
                                    "4": "Empty String",
                                    "5": "356"
                                },
                                {
                                    "0": "Challenges",
                                    "1": "Health Consultation quiz",
                                    "2": "",
                                    "3": "",
                                    "4": "Empty String",
                                    "5": "788"
                                },
                                {
                                    "0": "Challenges",
                                    "1": "Health insurance companies quiz",
                                    "2": "",
                                    "3": "",
                                    "4": "Empty String",
                                    "5": "854"
                                },
                                {
                                    "0": "Challenges",
                                    "1": "Health insurance quiz",
                                    "2": "",
                                    "3": "",
                                    "4": "Empty String",
                                    "5": "488"
                                },
                                {
                                    "0": "Challenges",
                                    "1": "Helsana Champions League",
                                    "2": "",
                                    "3": "",
                                    "4": "Empty String",
                                    "5": "14"
                                },
                                {
                                    "0": "Challenges",
                                    "1": "Helsana Trails app quiz",
                                    "2": "",
                                    "3": "",
                                    "4": "Empty String",
                                    "5": "820"
                                },
                                {
                                    "0": "Challenges",
                                    "1": "Jogging in winter quiz",
                                    "2": "",
                                    "3": "",
                                    "4": "Empty String",
                                    "5": "1102"
                                },
                                {
                                    "0": "Challenges",
                                    "1": "Lavender quiz",
                                    "2": "",
                                    "3": "",
                                    "4": "Empty String",
                                    "5": "1023"
                                },
                                {
                                    "0": "Challenges",
                                    "1": "Quiz Recharge on the Trails",
                                    "2": "",
                                    "3": "",
                                    "4": "Empty String",
                                    "5": "788"
                                },
                                {
                                    "0": "Challenges",
                                    "1": "Quiz social engagement",
                                    "2": "",
                                    "3": "",
                                    "4": "Empty String",
                                    "5": "212"
                                },
                                {
                                    "0": "Challenges",
                                    "1": "Quiz: depression",
                                    "2": "",
                                    "3": "",
                                    "4": "Empty String",
                                    "5": "1010"
                                },
                                {
                                    "0": "Challenges",
                                    "1": "Quiz: Exercise in your daily life",
                                    "2": "",
                                    "3": "",
                                    "4": "Empty String",
                                    "5": "1229"
                                },
                                {
                                    "0": "Challenges",
                                    "1": "Quiz: jogging for beginners",
                                    "2": "",
                                    "3": "",
                                    "4": "Empty String",
                                    "5": "1036"
                                },
                                {
                                    "0": "Challenges",
                                    "1": "Quiz: What is an ideal weight?",
                                    "2": "",
                                    "3": "",
                                    "4": "Empty String",
                                    "5": "1272"
                                },
                                {
                                    "0": "Challenges",
                                    "1": "Recommendation Helsana+ App",
                                    "2": "",
                                    "3": "",
                                    "4": "Empty String",
                                    "5": "36"
                                },
                                {
                                    "0": "Challenges",
                                    "1": "Relaxation quiz",
                                    "2": "",
                                    "3": "",
                                    "4": "Empty String",
                                    "5": "459"
                                },
                                {
                                    "0": "Challenges",
                                    "1": "Summer challenges bonus",
                                    "2": "",
                                    "3": "",
                                    "4": "Empty String",
                                    "5": "31"
                                },
                                {
                                    "0": "Challenges",
                                    "1": "Sun protection quiz",
                                    "2": "",
                                    "3": "",
                                    "4": "Empty String",
                                    "5": "984"
                                },
                                {
                                    "0": "Challenges",
                                    "1": "Swimming challenges bonus",
                                    "2": "",
                                    "3": "",
                                    "4": "Empty String",
                                    "5": "303"
                                },
                                {
                                    "0": "Challenges",
                                    "1": "The elderberry quiz",
                                    "2": "",
                                    "3": "",
                                    "4": "Empty String",
                                    "5": "761"
                                },
                                {
                                    "0": "Challenges",
                                    "1": "The Health Consultation quiz",
                                    "2": "",
                                    "3": "",
                                    "4": "Empty String",
                                    "5": "6"
                                },
                                {
                                    "0": "Challenges",
                                    "1": "Travel first aid kit quiz",
                                    "2": "",
                                    "3": "",
                                    "4": "Empty String",
                                    "5": "899"
                                },
                                {
                                    "0": "Challenges",
                                    "1": "Turmeric quiz",
                                    "2": "",
                                    "3": "",
                                    "4": "Empty String",
                                    "5": "987"
                                },
                                {
                                    "0": "Challenges",
                                    "1": "Vitamin quiz",
                                    "2": "",
                                    "3": "",
                                    "4": "Empty String",
                                    "5": "903"
                                },
                                {
                                    "0": "Challenges",
                                    "1": "Weekly Bonus Coach",
                                    "2": "",
                                    "3": "",
                                    "4": "Empty String",
                                    "5": "6895"
                                },
                                {
                                    "0": "Challenges",
                                    "1": "Weekly Class Bonus",
                                    "2": "",
                                    "3": "",
                                    "4": "Empty String",
                                    "5": "13"
                                },
                                {
                                    "0": "Coach Activities",
                                    "1": "Daily session",
                                    "2": "{\"ActivityType\":\"Session completed\",\"CategoryType\":\"Mindfulness activity completed\",\"SubcategoryType\":\"Motivation excercise completed\"}",
                                    "3": "{\"ActivityType\":\"Session completed\",\"CategoryType\":\"Nutrition activity completed\",\"SubcategoryType\":\"HealthyEating  completed\"}",
                                    "4": "JSON",
                                    "5": "16640"
                                },
                                {
                                    "0": "Coach Activities",
                                    "1": "Mindfulness programme",
                                    "2": "{\"ActivityType\":\"Program completed\",\"CategoryType\":\"Mindfulness activity completed\",\"SubcategoryType\":\"Motivation excercise completed\"}",
                                    "3": "{\"ActivityType\":\"Program completed\",\"CategoryType\":\"Mindfulness activity completed\",\"SubcategoryType\":\"Motivation excercise completed\"}",
                                    "4": "JSON",
                                    "5": "228"
                                },
                                {
                                    "0": "Coach Activities",
                                    "1": "Movement programme",
                                    "2": "{\"ActivityType\":\"Program completed\",\"CategoryType\":\"Movement activity completed\",\"SubcategoryType\":\"Strength excercise completed\"}",
                                    "3": "{\"ActivityType\":\"Program completed\",\"CategoryType\":\"Movement activity completed\",\"SubcategoryType\":\"Strength excercise completed\"}",
                                    "4": "JSON",
                                    "5": "127"
                                },
                                {
                                    "0": "Coach Activities",
                                    "1": "Nutrition programme",
                                    "2": "{\"ActivityType\":\"Program completed\",\"CategoryType\":\"Nutrition activity completed\",\"SubcategoryType\":\"HealthyEating  completed\"}",
                                    "3": "{\"ActivityType\":\"Program completed\",\"CategoryType\":\"Nutrition activity completed\",\"SubcategoryType\":\"HealthyEating  completed\"}",
                                    "4": "JSON",
                                    "5": "266"
                                },
                                {
                                    "0": "Coach Activities",
                                    "1": "Weekly Bonus",
                                    "2": "",
                                    "3": "",
                                    "4": "Empty String",
                                    "5": "2845"
                                },
                                {
                                    "0": "Exclusively for you!",
                                    "1": "Jogging challenge",
                                    "2": "{\"ActivityType\":\"Program completed\",\"CategoryType\":\"Movement activity completed\",\"SubcategoryType\":\"Strength excercise completed\"}",
                                    "3": "{\"ActivityType\":\"Session completed\",\"CategoryType\":\"Movement activity completed\",\"SubcategoryType\":\"Strength excercise completed\"}",
                                    "4": "JSON",
                                    "5": "3"
                                },
                                {
                                    "0": "Getting started",
                                    "1": "Connection to Fitnesstracker",
                                    "2": "Unkonwn",
                                    "3": "Unkonwn",
                                    "4": "Value Always: \"Unkonwn\"",
                                    "5": "506"
                                },
                                {
                                    "0": "Getting started",
                                    "1": "Discover Helsana Coach",
                                    "2": ",,",
                                    "3": ",,",
                                    "4": "Empty String",
                                    "5": "812"
                                },
                                {
                                    "0": "Getting started",
                                    "1": "Discover Trails App",
                                    "2": "Unkonwn",
                                    "3": "Unkonwn",
                                    "4": "Value Always: \"Unkonwn\"",
                                    "5": "645"
                                },
                                {
                                    "0": "Getting started",
                                    "1": "Link to health tracker app",
                                    "2": "Unkonwn",
                                    "3": "Unkonwn",
                                    "4": "Value Always: \"Unkonwn\"",
                                    "5": "221"
                                },
                                {
                                    "0": "Loyalty and Helsana",
                                    "1": "Longstanding customers",
                                    "2": "",
                                    "3": "",
                                    "4": "Empty String",
                                    "5": "1863"
                                },
                                {
                                    "0": "Loyalty and Helsana",
                                    "1": "Recommendation Helsana+ App",
                                    "2": "",
                                    "3": "",
                                    "4": "Empty String",
                                    "5": "196"
                                },
                                {
                                    "0": "Mindfulness",
                                    "1": "Daily Session mindfulness Coach",
                                    "2": "{\"ActivityType\":\"Session completed\",\"CategoryType\":\"Mindfulness activity completed\",\"SubcategoryType\":\"Motivation excercise completed\"}",
                                    "3": "{\"ActivityType\":\"Session completed\",\"CategoryType\":\"Mindfulness activity completed\",\"SubcategoryType\":\"Motivation excercise completed\"}",
                                    "4": "JSON",
                                    "5": "11"
                                },
                                {
                                    "0": "Mindfulness",
                                    "1": "Mindfulness programme Coach",
                                    "2": "{\"ActivityType\":\"Program completed\",\"CategoryType\":\"Mindfulness activity completed\",\"SubcategoryType\":\"Focus excercise completed\"}",
                                    "3": "{\"ActivityType\":\"Program completed\",\"CategoryType\":\"Mindfulness activity completed\",\"SubcategoryType\":\"Strength excercise completed\"2}",
                                    "4": "JSON",
                                    "5": "1382"
                                },
                                {
                                    "0": "Mindfulness",
                                    "1": "Session mindfulness Coach",
                                    "2": "{\"ActivityType\":\"Program completed\",\"CategoryType\":\"Mindfulness activity completed\",\"SubcategoryType\":\"Focus excercise completed\"}",
                                    "3": "{\"ActivityType\":\"Session completed\",\"CategoryType\":\"Mindfulness activity completed\",\"SubcategoryType\":\"Strength excercise completed\"2}",
                                    "4": "JSON",
                                    "5": "32068"
                                },
                                {
                                    "0": "Movement",
                                    "1": "100'000 schritte Challenge für Spitzensportler :-)",
                                    "2": "Steps thershold matched",
                                    "3": "Steps thershold matched",
                                    "4": "Value Always: \"Steps thershold matched\"",
                                    "5": "1"
                                },
                                {
                                    "0": "Movement",
                                    "1": "Daily Session Movement Coach",
                                    "2": "{\"ActivityType\":\"Program completed\",\"CategoryType\":\"Movement activity completed\",\"SubcategoryType\":\"Endurance excercise completed\"}",
                                    "3": "{\"ActivityType\":\"Session completed\",\"CategoryType\":\"Movement activity completed\",\"SubcategoryType\":\"Weighttraining excercise completed\"}",
                                    "4": "JSON",
                                    "5": "30483"
                                },
                                {
                                    "0": "Movement",
                                    "1": "Movement programme Coach",
                                    "2": "{\"ActivityType\":\"Program completed\",\"CategoryType\":\"Movement activity completed\",\"SubcategoryType\":\"Endurance excercise completed\"}",
                                    "3": "{\"ActivityType\":\"Program completed\",\"CategoryType\":\"Movement activity completed\",\"SubcategoryType\":\"Weighttraining excercise completed\"}",
                                    "4": "JSON",
                                    "5": "1057"
                                },
                                {
                                    "0": "Movement",
                                    "1": "My activity",
                                    "2": "",
                                    "3": "",
                                    "4": "Empty String",
                                    "5": "6581"
                                },
                                {
                                    "0": "Movement",
                                    "1": "Personal exercise",
                                    "2": "Heartrate threshold matched",
                                    "3": "Steps thershold matched",
                                    "4": "Various Values",
                                    "5": "132448"
                                },
                                {
                                    "0": "Movement",
                                    "1": "Trails App Run",
                                    "2": "Free run completed",
                                    "3": "Free run completed",
                                    "4": "Value Always: \"Free run completed\"",
                                    "5": "27388"
                                },
                                {
                                    "0": "Nutrition",
                                    "1": "Daily Session nutrition Coach",
                                    "2": "{\"ActivityType\":\"Session completed\",\"CategoryType\":\"Nutrition activity completed\",\"SubcategoryType\":\"HealthyEating  completed\"}",
                                    "3": "{\"ActivityType\":\"Session completed\",\"CategoryType\":\"Nutrition activity completed\",\"SubcategoryType\":\"HealthyEating  completed\"}",
                                    "4": "JSON",
                                    "5": "8"
                                },
                                {
                                    "0": "Nutrition",
                                    "1": "Nutrition programme Coach",
                                    "2": "{\"ActivityType\":\"Program completed\",\"CategoryType\":\"Nutrition activity completed\",\"SubcategoryType\":\"HealthyEating  completed\"}",
                                    "3": "{\"ActivityType\":\"Program completed\",\"CategoryType\":\"Nutrition activity completed\",\"SubcategoryType\":\"Strength excercise completed\"0}",
                                    "4": "JSON",
                                    "5": "1602"
                                },
                                {
                                    "0": "Nutrition",
                                    "1": "Session nutrition Coach",
                                    "2": "{\"ActivityType\":\"Program completed\",\"CategoryType\":\"Nutrition activity completed\",\"SubcategoryType\":\"HealthyEating  completed\"}",
                                    "3": "{\"ActivityType\":\"Session completed\",\"CategoryType\":\"Nutrition activity completed\",\"SubcategoryType\":\"Strength excercise completed\"0}",
                                    "4": "JSON",
                                    "5": "31134"
                                }
                            ]
                        },
                        "text/html": [
                            "<table>",
                            "<tr><th>Category</th><th>BasicActivity</th><th>Min_ActivityDetails</th><th>Max_ActivityDetails</th><th>Format_of_ActivityDetails</th><th>Number_of_Records</th></tr>",
                            "<tr><td>Challenges</td><td>“Refer a friend” quiz</td><td></td><td></td><td>Empty String</td><td>624</td></tr>",
                            "<tr><td>Challenges</td><td>A balanced diet</td><td></td><td></td><td>Empty String</td><td>748</td></tr>",
                            "<tr><td>Challenges</td><td>Back quiz</td><td></td><td></td><td>Empty String</td><td>950</td></tr>",
                            "<tr><td>Challenges</td><td>Bonus for autumn challenges</td><td></td><td></td><td>Empty String</td><td>117</td></tr>",
                            "<tr><td>Challenges</td><td>Bonus for Coach sessions</td><td></td><td></td><td>Empty String</td><td>4</td></tr>",
                            "<tr><td>Challenges</td><td>Bonus for January challenges</td><td></td><td></td><td>Empty String</td><td>415</td></tr>",
                            "<tr><td>Challenges</td><td>Chain of survival quiz</td><td></td><td></td><td>Empty String</td><td>925</td></tr>",
                            "<tr><td>Challenges</td><td>Earn points, step by step</td><td></td><td></td><td>Empty String</td><td>131</td></tr>",
                            "<tr><td>Challenges</td><td>Exercise quiz</td><td></td><td></td><td>Empty String</td><td>659</td></tr>",
                            "<tr><td>Challenges</td><td>First aid quiz</td><td></td><td></td><td>Empty String</td><td>470</td></tr>",
                            "<tr><td>Challenges</td><td>Golf quiz</td><td></td><td></td><td>Empty String</td><td>806</td></tr>",
                            "<tr><td>Challenges</td><td>Health apps quiz</td><td></td><td></td><td>Empty String</td><td>356</td></tr>",
                            "<tr><td>Challenges</td><td>Health Consultation quiz</td><td></td><td></td><td>Empty String</td><td>788</td></tr>",
                            "<tr><td>Challenges</td><td>Health insurance companies quiz</td><td></td><td></td><td>Empty String</td><td>854</td></tr>",
                            "<tr><td>Challenges</td><td>Health insurance quiz</td><td></td><td></td><td>Empty String</td><td>488</td></tr>",
                            "<tr><td>Challenges</td><td>Helsana Champions League</td><td></td><td></td><td>Empty String</td><td>14</td></tr>",
                            "<tr><td>Challenges</td><td>Helsana Trails app quiz</td><td></td><td></td><td>Empty String</td><td>820</td></tr>",
                            "<tr><td>Challenges</td><td>Jogging in winter quiz</td><td></td><td></td><td>Empty String</td><td>1102</td></tr>",
                            "<tr><td>Challenges</td><td>Lavender quiz</td><td></td><td></td><td>Empty String</td><td>1023</td></tr>",
                            "<tr><td>Challenges</td><td>Quiz Recharge on the Trails</td><td></td><td></td><td>Empty String</td><td>788</td></tr>",
                            "<tr><td>Challenges</td><td>Quiz social engagement</td><td></td><td></td><td>Empty String</td><td>212</td></tr>",
                            "<tr><td>Challenges</td><td>Quiz: depression</td><td></td><td></td><td>Empty String</td><td>1010</td></tr>",
                            "<tr><td>Challenges</td><td>Quiz: Exercise in your daily life</td><td></td><td></td><td>Empty String</td><td>1229</td></tr>",
                            "<tr><td>Challenges</td><td>Quiz: jogging for beginners</td><td></td><td></td><td>Empty String</td><td>1036</td></tr>",
                            "<tr><td>Challenges</td><td>Quiz: What is an ideal weight?</td><td></td><td></td><td>Empty String</td><td>1272</td></tr>",
                            "<tr><td>Challenges</td><td>Recommendation Helsana+ App</td><td></td><td></td><td>Empty String</td><td>36</td></tr>",
                            "<tr><td>Challenges</td><td>Relaxation quiz</td><td></td><td></td><td>Empty String</td><td>459</td></tr>",
                            "<tr><td>Challenges</td><td>Summer challenges bonus</td><td></td><td></td><td>Empty String</td><td>31</td></tr>",
                            "<tr><td>Challenges</td><td>Sun protection quiz</td><td></td><td></td><td>Empty String</td><td>984</td></tr>",
                            "<tr><td>Challenges</td><td>Swimming challenges bonus</td><td></td><td></td><td>Empty String</td><td>303</td></tr>",
                            "<tr><td>Challenges</td><td>The elderberry quiz</td><td></td><td></td><td>Empty String</td><td>761</td></tr>",
                            "<tr><td>Challenges</td><td>The Health Consultation quiz</td><td></td><td></td><td>Empty String</td><td>6</td></tr>",
                            "<tr><td>Challenges</td><td>Travel first aid kit quiz</td><td></td><td></td><td>Empty String</td><td>899</td></tr>",
                            "<tr><td>Challenges</td><td>Turmeric quiz</td><td></td><td></td><td>Empty String</td><td>987</td></tr>",
                            "<tr><td>Challenges</td><td>Vitamin quiz</td><td></td><td></td><td>Empty String</td><td>903</td></tr>",
                            "<tr><td>Challenges</td><td>Weekly Bonus Coach</td><td></td><td></td><td>Empty String</td><td>6895</td></tr>",
                            "<tr><td>Challenges</td><td>Weekly Class Bonus</td><td></td><td></td><td>Empty String</td><td>13</td></tr>",
                            "<tr><td>Coach Activities</td><td>Daily session</td><td>{&quot;ActivityType&quot;:&quot;Session completed&quot;,&quot;CategoryType&quot;:&quot;Mindfulness activity completed&quot;,&quot;SubcategoryType&quot;:&quot;Motivation excercise completed&quot;}</td><td>{&quot;ActivityType&quot;:&quot;Session completed&quot;,&quot;CategoryType&quot;:&quot;Nutrition activity completed&quot;,&quot;SubcategoryType&quot;:&quot;HealthyEating  completed&quot;}</td><td>JSON</td><td>16640</td></tr>",
                            "<tr><td>Coach Activities</td><td>Mindfulness programme</td><td>{&quot;ActivityType&quot;:&quot;Program completed&quot;,&quot;CategoryType&quot;:&quot;Mindfulness activity completed&quot;,&quot;SubcategoryType&quot;:&quot;Motivation excercise completed&quot;}</td><td>{&quot;ActivityType&quot;:&quot;Program completed&quot;,&quot;CategoryType&quot;:&quot;Mindfulness activity completed&quot;,&quot;SubcategoryType&quot;:&quot;Motivation excercise completed&quot;}</td><td>JSON</td><td>228</td></tr>",
                            "<tr><td>Coach Activities</td><td>Movement programme</td><td>{&quot;ActivityType&quot;:&quot;Program completed&quot;,&quot;CategoryType&quot;:&quot;Movement activity completed&quot;,&quot;SubcategoryType&quot;:&quot;Strength excercise completed&quot;}</td><td>{&quot;ActivityType&quot;:&quot;Program completed&quot;,&quot;CategoryType&quot;:&quot;Movement activity completed&quot;,&quot;SubcategoryType&quot;:&quot;Strength excercise completed&quot;}</td><td>JSON</td><td>127</td></tr>",
                            "<tr><td>Coach Activities</td><td>Nutrition programme</td><td>{&quot;ActivityType&quot;:&quot;Program completed&quot;,&quot;CategoryType&quot;:&quot;Nutrition activity completed&quot;,&quot;SubcategoryType&quot;:&quot;HealthyEating  completed&quot;}</td><td>{&quot;ActivityType&quot;:&quot;Program completed&quot;,&quot;CategoryType&quot;:&quot;Nutrition activity completed&quot;,&quot;SubcategoryType&quot;:&quot;HealthyEating  completed&quot;}</td><td>JSON</td><td>266</td></tr>",
                            "<tr><td>Coach Activities</td><td>Weekly Bonus</td><td></td><td></td><td>Empty String</td><td>2845</td></tr>",
                            "<tr><td>Exclusively for you!</td><td>Jogging challenge</td><td>{&quot;ActivityType&quot;:&quot;Program completed&quot;,&quot;CategoryType&quot;:&quot;Movement activity completed&quot;,&quot;SubcategoryType&quot;:&quot;Strength excercise completed&quot;}</td><td>{&quot;ActivityType&quot;:&quot;Session completed&quot;,&quot;CategoryType&quot;:&quot;Movement activity completed&quot;,&quot;SubcategoryType&quot;:&quot;Strength excercise completed&quot;}</td><td>JSON</td><td>3</td></tr>",
                            "<tr><td>Getting started</td><td>Connection to Fitnesstracker</td><td>Unkonwn</td><td>Unkonwn</td><td>Value Always: &quot;Unkonwn&quot;</td><td>506</td></tr>",
                            "<tr><td>Getting started</td><td>Discover Helsana Coach</td><td>,,</td><td>,,</td><td>Empty String</td><td>812</td></tr>",
                            "<tr><td>Getting started</td><td>Discover Trails App</td><td>Unkonwn</td><td>Unkonwn</td><td>Value Always: &quot;Unkonwn&quot;</td><td>645</td></tr>",
                            "<tr><td>Getting started</td><td>Link to health tracker app</td><td>Unkonwn</td><td>Unkonwn</td><td>Value Always: &quot;Unkonwn&quot;</td><td>221</td></tr>",
                            "<tr><td>Loyalty and Helsana</td><td>Longstanding customers</td><td></td><td></td><td>Empty String</td><td>1863</td></tr>",
                            "<tr><td>Loyalty and Helsana</td><td>Recommendation Helsana+ App</td><td></td><td></td><td>Empty String</td><td>196</td></tr>",
                            "<tr><td>Mindfulness</td><td>Daily Session mindfulness Coach</td><td>{&quot;ActivityType&quot;:&quot;Session completed&quot;,&quot;CategoryType&quot;:&quot;Mindfulness activity completed&quot;,&quot;SubcategoryType&quot;:&quot;Motivation excercise completed&quot;}</td><td>{&quot;ActivityType&quot;:&quot;Session completed&quot;,&quot;CategoryType&quot;:&quot;Mindfulness activity completed&quot;,&quot;SubcategoryType&quot;:&quot;Motivation excercise completed&quot;}</td><td>JSON</td><td>11</td></tr>",
                            "<tr><td>Mindfulness</td><td>Mindfulness programme Coach</td><td>{&quot;ActivityType&quot;:&quot;Program completed&quot;,&quot;CategoryType&quot;:&quot;Mindfulness activity completed&quot;,&quot;SubcategoryType&quot;:&quot;Focus excercise completed&quot;}</td><td>{&quot;ActivityType&quot;:&quot;Program completed&quot;,&quot;CategoryType&quot;:&quot;Mindfulness activity completed&quot;,&quot;SubcategoryType&quot;:&quot;Strength excercise completed&quot;2}</td><td>JSON</td><td>1382</td></tr>",
                            "<tr><td>Mindfulness</td><td>Session mindfulness Coach</td><td>{&quot;ActivityType&quot;:&quot;Program completed&quot;,&quot;CategoryType&quot;:&quot;Mindfulness activity completed&quot;,&quot;SubcategoryType&quot;:&quot;Focus excercise completed&quot;}</td><td>{&quot;ActivityType&quot;:&quot;Session completed&quot;,&quot;CategoryType&quot;:&quot;Mindfulness activity completed&quot;,&quot;SubcategoryType&quot;:&quot;Strength excercise completed&quot;2}</td><td>JSON</td><td>32068</td></tr>",
                            "<tr><td>Movement</td><td>100'000 schritte Challenge für Spitzensportler :-)</td><td>Steps thershold matched</td><td>Steps thershold matched</td><td>Value Always: &quot;Steps thershold matched&quot;</td><td>1</td></tr>",
                            "<tr><td>Movement</td><td>Daily Session Movement Coach</td><td>{&quot;ActivityType&quot;:&quot;Program completed&quot;,&quot;CategoryType&quot;:&quot;Movement activity completed&quot;,&quot;SubcategoryType&quot;:&quot;Endurance excercise completed&quot;}</td><td>{&quot;ActivityType&quot;:&quot;Session completed&quot;,&quot;CategoryType&quot;:&quot;Movement activity completed&quot;,&quot;SubcategoryType&quot;:&quot;Weighttraining excercise completed&quot;}</td><td>JSON</td><td>30483</td></tr>",
                            "<tr><td>Movement</td><td>Movement programme Coach</td><td>{&quot;ActivityType&quot;:&quot;Program completed&quot;,&quot;CategoryType&quot;:&quot;Movement activity completed&quot;,&quot;SubcategoryType&quot;:&quot;Endurance excercise completed&quot;}</td><td>{&quot;ActivityType&quot;:&quot;Program completed&quot;,&quot;CategoryType&quot;:&quot;Movement activity completed&quot;,&quot;SubcategoryType&quot;:&quot;Weighttraining excercise completed&quot;}</td><td>JSON</td><td>1057</td></tr>",
                            "<tr><td>Movement</td><td>My activity</td><td></td><td></td><td>Empty String</td><td>6581</td></tr>",
                            "<tr><td>Movement</td><td>Personal exercise</td><td>Heartrate threshold matched</td><td>Steps thershold matched</td><td>Various Values</td><td>132448</td></tr>",
                            "<tr><td>Movement</td><td>Trails App Run</td><td>Free run completed</td><td>Free run completed</td><td>Value Always: &quot;Free run completed&quot;</td><td>27388</td></tr>",
                            "<tr><td>Nutrition</td><td>Daily Session nutrition Coach</td><td>{&quot;ActivityType&quot;:&quot;Session completed&quot;,&quot;CategoryType&quot;:&quot;Nutrition activity completed&quot;,&quot;SubcategoryType&quot;:&quot;HealthyEating  completed&quot;}</td><td>{&quot;ActivityType&quot;:&quot;Session completed&quot;,&quot;CategoryType&quot;:&quot;Nutrition activity completed&quot;,&quot;SubcategoryType&quot;:&quot;HealthyEating  completed&quot;}</td><td>JSON</td><td>8</td></tr>",
                            "<tr><td>Nutrition</td><td>Nutrition programme Coach</td><td>{&quot;ActivityType&quot;:&quot;Program completed&quot;,&quot;CategoryType&quot;:&quot;Nutrition activity completed&quot;,&quot;SubcategoryType&quot;:&quot;HealthyEating  completed&quot;}</td><td>{&quot;ActivityType&quot;:&quot;Program completed&quot;,&quot;CategoryType&quot;:&quot;Nutrition activity completed&quot;,&quot;SubcategoryType&quot;:&quot;Strength excercise completed&quot;0}</td><td>JSON</td><td>1602</td></tr>",
                            "<tr><td>Nutrition</td><td>Session nutrition Coach</td><td>{&quot;ActivityType&quot;:&quot;Program completed&quot;,&quot;CategoryType&quot;:&quot;Nutrition activity completed&quot;,&quot;SubcategoryType&quot;:&quot;HealthyEating  completed&quot;}</td><td>{&quot;ActivityType&quot;:&quot;Session completed&quot;,&quot;CategoryType&quot;:&quot;Nutrition activity completed&quot;,&quot;SubcategoryType&quot;:&quot;Strength excercise completed&quot;0}</td><td>JSON</td><td>31134</td></tr>",
                            "</table>"
                        ]
                    }
                }
            ],
            "execution_count": 7
        },
        {
            "cell_type": "markdown",
            "source": [
                "# Focus: `UserActivity` rows with `Category` = \"Movement\"\n",
                "\n",
                "In the table `UserActivity`, rows with `Category` = \"Movement\" have some special charcteristics. Therefore, we provide some additional information about these rows.\n",
                "\n",
                "Below, you see all the `BasicActivity` values of rows with `Category = 'Movement'`"
            ],
            "metadata": {
                "azdata_cell_guid": "27d810b1-818f-4f15-b300-15dc82d01152"
            },
            "attachments": {}
        },
        {
            "cell_type": "code",
            "source": [
                "SELECT BasicActivity, COUNT(*) as Number_of_Records\r\n",
                "FROM UserActivity\r\n",
                "WHERE Category = 'Movement'\r\n",
                "GROUP BY BasicActivity\r\n",
                "ORDER BY 2 DESC  "
            ],
            "metadata": {
                "azdata_cell_guid": "02a5cbea-e12e-4983-bfab-1a5b89c5226f"
            },
            "outputs": [
                {
                    "output_type": "display_data",
                    "data": {
                        "text/html": "(6 rows affected)"
                    },
                    "metadata": {}
                },
                {
                    "output_type": "display_data",
                    "data": {
                        "text/html": "Total execution time: 00:00:00.119"
                    },
                    "metadata": {}
                },
                {
                    "output_type": "execute_result",
                    "metadata": {},
                    "execution_count": 4,
                    "data": {
                        "application/vnd.dataresource+json": {
                            "schema": {
                                "fields": [
                                    {
                                        "name": "BasicActivity"
                                    },
                                    {
                                        "name": "Number_of_Records"
                                    }
                                ]
                            },
                            "data": [
                                {
                                    "0": "Personal exercise",
                                    "1": "132448"
                                },
                                {
                                    "0": "Daily Session Movement Coach",
                                    "1": "30483"
                                },
                                {
                                    "0": "Trails App Run",
                                    "1": "27388"
                                },
                                {
                                    "0": "My activity",
                                    "1": "6581"
                                },
                                {
                                    "0": "Movement programme Coach",
                                    "1": "1057"
                                },
                                {
                                    "0": "100'000 schritte Challenge für Spitzensportler :-)",
                                    "1": "1"
                                }
                            ]
                        },
                        "text/html": [
                            "<table>",
                            "<tr><th>BasicActivity</th><th>Number_of_Records</th></tr>",
                            "<tr><td>Personal exercise</td><td>132448</td></tr>",
                            "<tr><td>Daily Session Movement Coach</td><td>30483</td></tr>",
                            "<tr><td>Trails App Run</td><td>27388</td></tr>",
                            "<tr><td>My activity</td><td>6581</td></tr>",
                            "<tr><td>Movement programme Coach</td><td>1057</td></tr>",
                            "<tr><td>100'000 schritte Challenge für Spitzensportler :-)</td><td>1</td></tr>",
                            "</table>"
                        ]
                    }
                }
            ],
            "execution_count": 4
        },
        {
            "cell_type": "markdown",
            "source": [
                "## `BasicActivity` values\n",
                "\n",
                "### Personal exercise\n",
                "\n",
                "These rows come from our version 1 system, before we had `BasicActivity` = \"My activity\". They represent movement activities as well but don't have any corresponding rows in the `Move` table.\n",
                "\n",
                "### Daily Session Movement Coach\n",
                "\n",
                "These rows come from our \"Helsana Coach\" app and represent sequences of exercises the user has performed. These exercises have been performed within a regular exercise plan.\n",
                "\n",
                "### Trails App Run\n",
                "\n",
                "These rows come from our \"Helsana Trails\" app and are created when a user has indicated to have run one of the \"Helsana Trails\".\n",
                "\n",
                "### My activity\n",
                "\n",
                "These rows represent movement activities recorded by trackers, and have corresponding rows in the table `Move`. \n",
                "\n",
                "### Movement programme Coach\n",
                "\n",
                "These rows come from our \"Helsana Coach\" app and represent sequences of exercises the user has performed.\n",
                "\n",
                "### 100'000 Schritte Challenge für Spitzensportler :-)\n",
                "\n",
                "In the Helsana+ App, we have \"challenges\" which a user can get points for. Some challenges can also be \"movement-related\", so they will also appear under the category \"Movement\". (There are also different kinds of challenges which aren't \"movement-related\".)"
            ],
            "metadata": {
                "azdata_cell_guid": "762f9ccf-1654-4b98-b2f0-68a8fbe779fe"
            },
            "attachments": {}
        },
        {
            "cell_type": "markdown",
            "source": [
                "# Focus: `UserActivity` rows containing JSON in field `ActivityDetails`\r\n",
                "\r\n",
                "Below, you see all the `BasicActivity` values of rows that contain JSON data in the `ActivityDetails` field.\r\n",
                "In the columns `CategoryType` and `SubcategoryType` you can find some values that are parsed out of the JSON."
            ],
            "metadata": {
                "azdata_cell_guid": "3b3b84db-e751-450e-ab3e-b0707be78e2c"
            },
            "attachments": {}
        },
        {
            "cell_type": "code",
            "source": [
                "WITH parsed as (\r\n",
                "    SELECT \r\n",
                "        Category,\r\n",
                "        BasicActivity, \r\n",
                "        IIF(ISJSON(ActivityDetails) > 0, JSON_VALUE(ActivityDetails, '$.CategoryType'), ActivityDetails) as CategoryType,\r\n",
                "        IIF(ISJSON(ActivityDetails) > 0, JSON_VALUE(ActivityDetails, '$.SubcategoryType'), ActivityDetails) as SubcategoryType,\r\n",
                "        ActivityDetails\r\n",
                "    FROM UserActivity\r\n",
                ")\r\n",
                "SELECT Category, BasicActivity, CategoryType, SubcategoryType, COUNT(*) as Number_of_Records\r\n",
                "FROM parsed\r\n",
                "WHERE ISJSON(ActivityDetails) > 0\r\n",
                "GROUP BY Category, BasicActivity, CategoryType, SubcategoryType\r\n",
                "ORDER BY Category, BasicActivity, Number_of_Records DESC  "
            ],
            "metadata": {
                "azdata_cell_guid": "99b54b4b-bd1f-4d22-985e-3c0c3a394d7b"
            },
            "outputs": [
                {
                    "output_type": "display_data",
                    "data": {
                        "text/html": "(29 rows affected)"
                    },
                    "metadata": {}
                },
                {
                    "output_type": "display_data",
                    "data": {
                        "text/html": "Total execution time: 00:00:01.280"
                    },
                    "metadata": {}
                },
                {
                    "output_type": "execute_result",
                    "metadata": {},
                    "execution_count": 33,
                    "data": {
                        "application/vnd.dataresource+json": {
                            "schema": {
                                "fields": [
                                    {
                                        "name": "Category"
                                    },
                                    {
                                        "name": "BasicActivity"
                                    },
                                    {
                                        "name": "CategoryType"
                                    },
                                    {
                                        "name": "SubcategoryType"
                                    },
                                    {
                                        "name": "Number_of_Records"
                                    }
                                ]
                            },
                            "data": [
                                {
                                    "0": "Coach Activities",
                                    "1": "Daily session",
                                    "2": "Mindfulness activity completed",
                                    "3": "Motivation excercise completed",
                                    "4": "6025"
                                },
                                {
                                    "0": "Coach Activities",
                                    "1": "Daily session",
                                    "2": "Nutrition activity completed",
                                    "3": "HealthyEating  completed",
                                    "4": "5381"
                                },
                                {
                                    "0": "Coach Activities",
                                    "1": "Daily session",
                                    "2": "Movement activity completed",
                                    "3": "Strength excercise completed",
                                    "4": "5234"
                                },
                                {
                                    "0": "Coach Activities",
                                    "1": "Mindfulness programme",
                                    "2": "Mindfulness activity completed",
                                    "3": "Motivation excercise completed",
                                    "4": "228"
                                },
                                {
                                    "0": "Coach Activities",
                                    "1": "Movement programme",
                                    "2": "Movement activity completed",
                                    "3": "Strength excercise completed",
                                    "4": "127"
                                },
                                {
                                    "0": "Coach Activities",
                                    "1": "Nutrition programme",
                                    "2": "Nutrition activity completed",
                                    "3": "HealthyEating  completed",
                                    "4": "266"
                                },
                                {
                                    "0": "Exclusively for you!",
                                    "1": "Jogging challenge",
                                    "2": "Movement activity completed",
                                    "3": "Strength excercise completed",
                                    "4": "3"
                                },
                                {
                                    "0": "Mindfulness",
                                    "1": "Daily Session mindfulness Coach",
                                    "2": "Mindfulness activity completed",
                                    "3": "Motivation excercise completed",
                                    "4": "11"
                                },
                                {
                                    "0": "Mindfulness",
                                    "1": "Mindfulness programme Coach",
                                    "2": "Mindfulness activity completed",
                                    "3": "Motivation excercise completed",
                                    "4": "990"
                                },
                                {
                                    "0": "Mindfulness",
                                    "1": "Mindfulness programme Coach",
                                    "2": "Mindfulness activity completed",
                                    "3": "Relaxation excercise completed",
                                    "4": "197"
                                },
                                {
                                    "0": "Mindfulness",
                                    "1": "Mindfulness programme Coach",
                                    "2": "Mindfulness activity completed",
                                    "3": "Sleeping excercise completed",
                                    "4": "131"
                                },
                                {
                                    "0": "Mindfulness",
                                    "1": "Mindfulness programme Coach",
                                    "2": "Mindfulness activity completed",
                                    "3": "Focus excercise completed",
                                    "4": "54"
                                },
                                {
                                    "0": "Mindfulness",
                                    "1": "Mindfulness programme Coach",
                                    "2": "Mindfulness activity completed",
                                    "3": "Strength excercise completed",
                                    "4": "10"
                                },
                                {
                                    "0": "Mindfulness",
                                    "1": "Session mindfulness Coach",
                                    "2": "Mindfulness activity completed",
                                    "3": "Motivation excercise completed",
                                    "4": "25286"
                                },
                                {
                                    "0": "Mindfulness",
                                    "1": "Session mindfulness Coach",
                                    "2": "Mindfulness activity completed",
                                    "3": "Relaxation excercise completed",
                                    "4": "3180"
                                },
                                {
                                    "0": "Mindfulness",
                                    "1": "Session mindfulness Coach",
                                    "2": "Mindfulness activity completed",
                                    "3": "Focus excercise completed",
                                    "4": "1767"
                                },
                                {
                                    "0": "Mindfulness",
                                    "1": "Session mindfulness Coach",
                                    "2": "Mindfulness activity completed",
                                    "3": "Sleeping excercise completed",
                                    "4": "1693"
                                },
                                {
                                    "0": "Mindfulness",
                                    "1": "Session mindfulness Coach",
                                    "2": "Mindfulness activity completed",
                                    "3": "Strength excercise completed",
                                    "4": "18"
                                },
                                {
                                    "0": "Movement",
                                    "1": "Daily Session Movement Coach",
                                    "2": "Movement activity completed",
                                    "3": "Strength excercise completed",
                                    "4": "25349"
                                },
                                {
                                    "0": "Movement",
                                    "1": "Daily Session Movement Coach",
                                    "2": "Movement activity completed",
                                    "3": "Flexibility excercise completed",
                                    "4": "3041"
                                },
                                {
                                    "0": "Movement",
                                    "1": "Daily Session Movement Coach",
                                    "2": "Movement activity completed",
                                    "3": "Endurance excercise completed",
                                    "4": "1264"
                                },
                                {
                                    "0": "Movement",
                                    "1": "Daily Session Movement Coach",
                                    "2": "Movement activity completed",
                                    "3": "Weighttraining excercise completed",
                                    "4": "260"
                                },
                                {
                                    "0": "Movement",
                                    "1": "Movement programme Coach",
                                    "2": "Movement activity completed",
                                    "3": "Strength excercise completed",
                                    "4": "899"
                                },
                                {
                                    "0": "Movement",
                                    "1": "Movement programme Coach",
                                    "2": "Movement activity completed",
                                    "3": "Flexibility excercise completed",
                                    "4": "79"
                                },
                                {
                                    "0": "Movement",
                                    "1": "Movement programme Coach",
                                    "2": "Movement activity completed",
                                    "3": "Endurance excercise completed",
                                    "4": "51"
                                },
                                {
                                    "0": "Movement",
                                    "1": "Movement programme Coach",
                                    "2": "Movement activity completed",
                                    "3": "Weighttraining excercise completed",
                                    "4": "8"
                                },
                                {
                                    "0": "Nutrition",
                                    "1": "Daily Session nutrition Coach",
                                    "2": "Nutrition activity completed",
                                    "3": "HealthyEating  completed",
                                    "4": "8"
                                },
                                {
                                    "0": "Nutrition",
                                    "1": "Nutrition programme Coach",
                                    "2": "Nutrition activity completed",
                                    "3": "HealthyEating  completed",
                                    "4": "1535"
                                },
                                {
                                    "0": "Nutrition",
                                    "1": "Session nutrition Coach",
                                    "2": "Nutrition activity completed",
                                    "3": "HealthyEating  completed",
                                    "4": "28975"
                                }
                            ]
                        },
                        "text/html": [
                            "<table>",
                            "<tr><th>Category</th><th>BasicActivity</th><th>CategoryType</th><th>SubcategoryType</th><th>Number_of_Records</th></tr>",
                            "<tr><td>Coach Activities</td><td>Daily session</td><td>Mindfulness activity completed</td><td>Motivation excercise completed</td><td>6025</td></tr>",
                            "<tr><td>Coach Activities</td><td>Daily session</td><td>Nutrition activity completed</td><td>HealthyEating  completed</td><td>5381</td></tr>",
                            "<tr><td>Coach Activities</td><td>Daily session</td><td>Movement activity completed</td><td>Strength excercise completed</td><td>5234</td></tr>",
                            "<tr><td>Coach Activities</td><td>Mindfulness programme</td><td>Mindfulness activity completed</td><td>Motivation excercise completed</td><td>228</td></tr>",
                            "<tr><td>Coach Activities</td><td>Movement programme</td><td>Movement activity completed</td><td>Strength excercise completed</td><td>127</td></tr>",
                            "<tr><td>Coach Activities</td><td>Nutrition programme</td><td>Nutrition activity completed</td><td>HealthyEating  completed</td><td>266</td></tr>",
                            "<tr><td>Exclusively for you!</td><td>Jogging challenge</td><td>Movement activity completed</td><td>Strength excercise completed</td><td>3</td></tr>",
                            "<tr><td>Mindfulness</td><td>Daily Session mindfulness Coach</td><td>Mindfulness activity completed</td><td>Motivation excercise completed</td><td>11</td></tr>",
                            "<tr><td>Mindfulness</td><td>Mindfulness programme Coach</td><td>Mindfulness activity completed</td><td>Motivation excercise completed</td><td>990</td></tr>",
                            "<tr><td>Mindfulness</td><td>Mindfulness programme Coach</td><td>Mindfulness activity completed</td><td>Relaxation excercise completed</td><td>197</td></tr>",
                            "<tr><td>Mindfulness</td><td>Mindfulness programme Coach</td><td>Mindfulness activity completed</td><td>Sleeping excercise completed</td><td>131</td></tr>",
                            "<tr><td>Mindfulness</td><td>Mindfulness programme Coach</td><td>Mindfulness activity completed</td><td>Focus excercise completed</td><td>54</td></tr>",
                            "<tr><td>Mindfulness</td><td>Mindfulness programme Coach</td><td>Mindfulness activity completed</td><td>Strength excercise completed</td><td>10</td></tr>",
                            "<tr><td>Mindfulness</td><td>Session mindfulness Coach</td><td>Mindfulness activity completed</td><td>Motivation excercise completed</td><td>25286</td></tr>",
                            "<tr><td>Mindfulness</td><td>Session mindfulness Coach</td><td>Mindfulness activity completed</td><td>Relaxation excercise completed</td><td>3180</td></tr>",
                            "<tr><td>Mindfulness</td><td>Session mindfulness Coach</td><td>Mindfulness activity completed</td><td>Focus excercise completed</td><td>1767</td></tr>",
                            "<tr><td>Mindfulness</td><td>Session mindfulness Coach</td><td>Mindfulness activity completed</td><td>Sleeping excercise completed</td><td>1693</td></tr>",
                            "<tr><td>Mindfulness</td><td>Session mindfulness Coach</td><td>Mindfulness activity completed</td><td>Strength excercise completed</td><td>18</td></tr>",
                            "<tr><td>Movement</td><td>Daily Session Movement Coach</td><td>Movement activity completed</td><td>Strength excercise completed</td><td>25349</td></tr>",
                            "<tr><td>Movement</td><td>Daily Session Movement Coach</td><td>Movement activity completed</td><td>Flexibility excercise completed</td><td>3041</td></tr>",
                            "<tr><td>Movement</td><td>Daily Session Movement Coach</td><td>Movement activity completed</td><td>Endurance excercise completed</td><td>1264</td></tr>",
                            "<tr><td>Movement</td><td>Daily Session Movement Coach</td><td>Movement activity completed</td><td>Weighttraining excercise completed</td><td>260</td></tr>",
                            "<tr><td>Movement</td><td>Movement programme Coach</td><td>Movement activity completed</td><td>Strength excercise completed</td><td>899</td></tr>",
                            "<tr><td>Movement</td><td>Movement programme Coach</td><td>Movement activity completed</td><td>Flexibility excercise completed</td><td>79</td></tr>",
                            "<tr><td>Movement</td><td>Movement programme Coach</td><td>Movement activity completed</td><td>Endurance excercise completed</td><td>51</td></tr>",
                            "<tr><td>Movement</td><td>Movement programme Coach</td><td>Movement activity completed</td><td>Weighttraining excercise completed</td><td>8</td></tr>",
                            "<tr><td>Nutrition</td><td>Daily Session nutrition Coach</td><td>Nutrition activity completed</td><td>HealthyEating  completed</td><td>8</td></tr>",
                            "<tr><td>Nutrition</td><td>Nutrition programme Coach</td><td>Nutrition activity completed</td><td>HealthyEating  completed</td><td>1535</td></tr>",
                            "<tr><td>Nutrition</td><td>Session nutrition Coach</td><td>Nutrition activity completed</td><td>HealthyEating  completed</td><td>28975</td></tr>",
                            "</table>"
                        ]
                    }
                }
            ],
            "execution_count": 33
        }
    ]
}